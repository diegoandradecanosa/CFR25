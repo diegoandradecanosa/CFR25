{
 "cells": [
  {
   "cell_type": "markdown",
   "metadata": {},
   "source": [
    "# Agentes con Transformers\n",
    "\n",
    "*Este notebook es una adaptación de:* https://huggingface.co/docs/transformers/main/en/agents\n",
    "\n",
    "Los modelos de lenguaje tienen una indudable capacidad para intercambiar información a través del lenguaje natural. Sin embargo, a veces muestran una sorprendente incapacidad para realizar tareas sencillas, especialmente en ciertos dominios como el razonamiento lógico, los cálculos matemáticos o la búsqueda de información.\n",
    "\n",
    "Una aproximación para superar esta limitación es el uso de *agentes*. Un agente es un sistema basado en el uso de un modelo de lenguaje como motor, y que además está equipado con acceso a ciertas herramientas (*tools*) que puede emplear para realizar tareas muy específicas. Por ejemplo, un agente podría estar preparado para que cuando interprete que alguien le pide que realice un cálculo matemático, utilizar algún tipo de software matemático para realizarlo.\n",
    "\n",
    "Los agente pueden ser programados para:\n",
    "\n",
    "- Concebir una serie de acciones/herramientas y ejecutarlas todas a la vez, como el [CodeAgent](https://huggingface.co/docs/transformers/main/en/main_classes/agent#transformers.CodeAgent)\n",
    "- Planear y luego ejecutar una serie de acciones (una a una) esperando a que cada una se complete antes de continua con la siguiente, como el [ReactJsonAgent](https://huggingface.co/docs/transformers/main/en/main_classes/agent#transformers.ReactJsonAgent)"
   ]
  },
  {
   "cell_type": "markdown",
   "metadata": {},
   "source": [
    "## Tipos de agentes\n",
    "\n",
    "### Agentes Code\n",
    "\n",
    "Este agente tiene un paso de planificación que genera código Python para ejecutar todas sus acciones de una vez. Nativamente es capaz de manejar diferentes tipos de entradas y salidas, por lo tanto es la opción recomendada para tareas multimodales.\n",
    "\n",
    "### Agentes React\n",
    "\n",
    "Este es el agente recomendado para resolver tareas de razonamiento, ya que el framework React es eficiente para pensar paso a paso, y cada paso usando las salidas del paso anterior. Transformers implementa dos versiones del *ReactJsonAgent*:\n",
    "\n",
    "- *ReactJsonAgent*: genera llamadas a herramientas en forma de JSON en su salida.\n",
    "- *ReactCodeAgente*: e un nuevo tipo de *ReactJsonAgent* que genera sus llamadas a herramientas como *blobs* (binarios ejectuables) de código.\n"
   ]
  }
 ],
 "metadata": {
  "kernelspec": {
   "display_name": "mytx",
   "language": "python",
   "name": "mytx"
  }
 },
 "nbformat": 4,
 "nbformat_minor": 2
}
