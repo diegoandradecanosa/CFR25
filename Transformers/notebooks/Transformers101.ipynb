{
 "cells": [
  {
   "cell_type": "code",
   "execution_count": null,
   "metadata": {},
   "outputs": [
    {
     "name": "stdout",
     "output_type": "stream",
     "text": [
      "   Static hostname: c206-1\n",
      "         Icon name: computer-server\n",
      "           Chassis: server\n",
      "        Machine ID: d83a25f1a3734753bf847d7ccec7293d\n",
      "           Boot ID: 0819a9eb62dc48a5b14fe8af8405b988\n",
      "  Operating System: \u001b]8;;https://rockylinux.org/\u0007Rocky Linux 8.4 (Green Obsidian)\u001b]8;;\u0007\n",
      "       CPE OS Name: cpe:/o:rocky:rocky:8.4:GA\n",
      "            Kernel: Linux 4.18.0-305.3.1.el8_4.x86_64\n",
      "      Architecture: x86-64\n",
      "Looking in indexes: https://pypi.org/simple, https://pypi.ngc.nvidia.com\n",
      "Collecting xformers\n",
      "  Downloading xformers-0.0.28.post1.tar.gz (7.8 MB)\n",
      "\u001b[2K     \u001b[90m━━━━━━━━━━━━━━━━━━━━━━━━━━━━━━━━━━━━━━━━\u001b[0m \u001b[32m7.8/7.8 MB\u001b[0m \u001b[31m90.9 MB/s\u001b[0m eta \u001b[36m0:00:00\u001b[0ma \u001b[36m0:00:01\u001b[0m\n",
      "\u001b[?25h  Preparing metadata (setup.py) ... \u001b[?25lerror\n",
      "  \u001b[1;31merror\u001b[0m: \u001b[1msubprocess-exited-with-error\u001b[0m\n",
      "  \n",
      "  \u001b[31m×\u001b[0m \u001b[32mpython setup.py egg_info\u001b[0m did not run successfully.\n",
      "  \u001b[31m│\u001b[0m exit code: \u001b[1;36m1\u001b[0m\n",
      "  \u001b[31m╰─>\u001b[0m \u001b[31m[19 lines of output]\u001b[0m\n",
      "  \u001b[31m   \u001b[0m Traceback (most recent call last):\n",
      "  \u001b[31m   \u001b[0m   File \"/mnt/netapp2/Store_uni/home/ulc/es/dac/mytx/lib/python3.7/site-packages/torch/_ops.py\", line 501, in __getattr__\n",
      "  \u001b[31m   \u001b[0m     op, overload_names = torch._C._jit_get_operation(qualified_op_name)\n",
      "  \u001b[31m   \u001b[0m RuntimeError: No such operator aten::_efficient_attention_forward\n",
      "  \u001b[31m   \u001b[0m \n",
      "  \u001b[31m   \u001b[0m The above exception was the direct cause of the following exception:\n",
      "  \u001b[31m   \u001b[0m \n",
      "  \u001b[31m   \u001b[0m Traceback (most recent call last):\n",
      "  \u001b[31m   \u001b[0m   File \"<string>\", line 36, in <module>\n",
      "  \u001b[31m   \u001b[0m   File \"<pip-setuptools-caller>\", line 34, in <module>\n",
      "  \u001b[31m   \u001b[0m   File \"/scratch/9978113/pip-install-i0qtyo8z/xformers_67dd8460be414ddabcd70517366fa6dd/setup.py\", line 679, in <module>\n",
      "  \u001b[31m   \u001b[0m     extensions, extensions_metadata = get_extensions()\n",
      "  \u001b[31m   \u001b[0m   File \"/scratch/9978113/pip-install-i0qtyo8z/xformers_67dd8460be414ddabcd70517366fa6dd/setup.py\", line 404, in get_extensions\n",
      "  \u001b[31m   \u001b[0m     force=xformers_pt_cutlass_attn == \"1\"\n",
      "  \u001b[31m   \u001b[0m   File \"/scratch/9978113/pip-install-i0qtyo8z/xformers_67dd8460be414ddabcd70517366fa6dd/xformers/ops/fmha/torch_attention_compat.py\", line 35, in is_pt_cutlass_compatible\n",
      "  \u001b[31m   \u001b[0m     current_schema = torch.ops.aten._efficient_attention_forward.default._schema\n",
      "  \u001b[31m   \u001b[0m   File \"/mnt/netapp2/Store_uni/home/ulc/es/dac/mytx/lib/python3.7/site-packages/torch/_ops.py\", line 507, in __getattr__\n",
      "  \u001b[31m   \u001b[0m     ) from e\n",
      "  \u001b[31m   \u001b[0m AttributeError: '_OpNamespace' 'aten' object has no attribute '_efficient_attention_forward'\n",
      "  \u001b[31m   \u001b[0m \u001b[31m[end of output]\u001b[0m\n",
      "  \n",
      "  \u001b[1;35mnote\u001b[0m: This error originates from a subprocess, and is likely not a problem with pip.\n",
      "\u001b[1;31merror\u001b[0m: \u001b[1mmetadata-generation-failed\u001b[0m\n",
      "\n",
      "\u001b[31m×\u001b[0m Encountered error while generating package metadata.\n",
      "\u001b[31m╰─>\u001b[0m See above for output.\n",
      "\n",
      "\u001b[1;35mnote\u001b[0m: This is an issue with the package mentioned above, not pip.\n",
      "\u001b[1;36mhint\u001b[0m: See above for details.\n",
      "\u001b[?25hNote: you may need to restart the kernel to use updated packages.\n",
      "Sun Dec 29 08:20:02 2024       \n",
      "+---------------------------------------------------------------------------------------+\n",
      "| NVIDIA-SMI 535.54.03              Driver Version: 535.54.03    CUDA Version: 12.2     |\n",
      "|-----------------------------------------+----------------------+----------------------+\n",
      "| GPU  Name                 Persistence-M | Bus-Id        Disp.A | Volatile Uncorr. ECC |\n",
      "| Fan  Temp   Perf          Pwr:Usage/Cap |         Memory-Usage | GPU-Util  Compute M. |\n",
      "|                                         |                      |               MIG M. |\n",
      "|=========================================+======================+======================|\n",
      "|   0  Tesla T4                       On  | 00000000:98:00.0 Off |                    0 |\n",
      "| N/A   36C    P8              14W /  70W |      2MiB / 15360MiB |      0%      Default |\n",
      "|                                         |                      |                  N/A |\n",
      "+-----------------------------------------+----------------------+----------------------+\n",
      "                                                                                         \n",
      "+---------------------------------------------------------------------------------------+\n",
      "| Processes:                                                                            |\n",
      "|  GPU   GI   CI        PID   Type   Process name                            GPU Memory |\n",
      "|        ID   ID                                                             Usage      |\n",
      "|=======================================================================================|\n",
      "|  No running processes found                                                           |\n",
      "+---------------------------------------------------------------------------------------+\n",
      "Defaulting to user installation because normal site-packages is not writeable\n",
      "Looking in indexes: https://pypi.org/simple, https://pypi.ngc.nvidia.com\n",
      "Requirement already satisfied: datasets in /mnt/netapp2/Home_FT2/home/ulc/es/dac/.local/lib/python3.7/site-packages (2.13.2)\n",
      "Requirement already satisfied: multiprocess in /mnt/netapp2/Home_FT2/home/ulc/es/dac/.local/lib/python3.7/site-packages (from datasets) (0.70.14)\n",
      "Requirement already satisfied: pyyaml>=5.1 in /mnt/netapp1/Optcesga_FT2_RHEL7/2020/gentoo/22072020/usr/lib64/python3.7/site-packages (from datasets) (5.3.1)\n",
      "Requirement already satisfied: pyarrow>=8.0.0 in /mnt/netapp2/Home_FT2/home/ulc/es/dac/.local/lib/python3.7/site-packages (from datasets) (12.0.1)\n",
      "Requirement already satisfied: importlib-metadata in /mnt/netapp1/Optcesga_FT2_RHEL7/2020/gentoo/22072020/usr/lib64/python3.7/site-packages (from datasets) (1.7.0)\n",
      "Requirement already satisfied: huggingface-hub<1.0.0,>=0.11.0 in /mnt/netapp2/Home_FT2/home/ulc/es/dac/.local/lib/python3.7/site-packages (from datasets) (0.16.4)\n",
      "Requirement already satisfied: xxhash in /mnt/netapp2/Home_FT2/home/ulc/es/dac/.local/lib/python3.7/site-packages (from datasets) (3.5.0)\n",
      "Requirement already satisfied: packaging in /mnt/netapp2/Home_FT2/home/ulc/es/dac/.local/lib/python3.7/site-packages (from datasets) (24.0)\n",
      "Requirement already satisfied: dill<0.3.7,>=0.3.0 in /mnt/netapp2/Home_FT2/home/ulc/es/dac/.local/lib/python3.7/site-packages (from datasets) (0.3.6)\n",
      "Requirement already satisfied: fsspec[http]>=2021.11.1 in /mnt/netapp2/Home_FT2/home/ulc/es/dac/.local/lib/python3.7/site-packages (from datasets) (2023.1.0)\n",
      "Requirement already satisfied: numpy>=1.17 in /mnt/netapp1/Optcesga_FT2_RHEL7/2020/gentoo/22072020/usr/lib64/python3.7/site-packages (from datasets) (1.19.0)\n",
      "Requirement already satisfied: pandas in /mnt/netapp1/Optcesga_FT2_RHEL7/2020/gentoo/22072020/usr/lib64/python3.7/site-packages (from datasets) (1.0.5)\n",
      "Requirement already satisfied: aiohttp in /mnt/netapp2/Home_FT2/home/ulc/es/dac/.local/lib/python3.7/site-packages (from datasets) (3.8.6)\n",
      "Requirement already satisfied: requests>=2.19.0 in /mnt/netapp1/Optcesga_FT2_RHEL7/2020/gentoo/22072020/usr/lib64/python3.7/site-packages (from datasets) (2.24.0)\n",
      "Requirement already satisfied: tqdm>=4.62.1 in /mnt/netapp2/Home_FT2/home/ulc/es/dac/.local/lib/python3.7/site-packages (from datasets) (4.67.1)\n",
      "Requirement already satisfied: frozenlist>=1.1.1 in /mnt/netapp2/Home_FT2/home/ulc/es/dac/.local/lib/python3.7/site-packages (from aiohttp->datasets) (1.3.3)\n",
      "Requirement already satisfied: yarl<2.0,>=1.0 in /mnt/netapp2/Home_FT2/home/ulc/es/dac/.local/lib/python3.7/site-packages (from aiohttp->datasets) (1.9.4)\n",
      "Requirement already satisfied: aiosignal>=1.1.2 in /mnt/netapp2/Home_FT2/home/ulc/es/dac/.local/lib/python3.7/site-packages (from aiohttp->datasets) (1.3.1)\n",
      "Requirement already satisfied: charset-normalizer<4.0,>=2.0 in /mnt/netapp2/Home_FT2/home/ulc/es/dac/.local/lib/python3.7/site-packages (from aiohttp->datasets) (3.4.1)\n",
      "Requirement already satisfied: typing-extensions>=3.7.4 in /mnt/netapp1/Optcesga_FT2_RHEL7/2020/gentoo/22072020/usr/lib64/python3.7/site-packages (from aiohttp->datasets) (3.7.4.3)\n",
      "Requirement already satisfied: async-timeout<5.0,>=4.0.0a3 in /mnt/netapp2/Home_FT2/home/ulc/es/dac/.local/lib/python3.7/site-packages (from aiohttp->datasets) (4.0.3)\n",
      "Requirement already satisfied: attrs>=17.3.0 in /mnt/netapp1/Optcesga_FT2_RHEL7/2020/gentoo/22072020/usr/lib64/python3.7/site-packages (from aiohttp->datasets) (19.3.0)\n",
      "Requirement already satisfied: asynctest==0.13.0 in /mnt/netapp2/Home_FT2/home/ulc/es/dac/.local/lib/python3.7/site-packages (from aiohttp->datasets) (0.13.0)\n",
      "Requirement already satisfied: multidict<7.0,>=4.5 in /mnt/netapp2/Home_FT2/home/ulc/es/dac/.local/lib/python3.7/site-packages (from aiohttp->datasets) (6.0.5)\n",
      "Requirement already satisfied: filelock in /mnt/netapp1/Optcesga_FT2_RHEL7/2020/gentoo/22072020/usr/lib64/python3.7/site-packages (from huggingface-hub<1.0.0,>=0.11.0->datasets) (3.0.12)\n",
      "Requirement already satisfied: chardet<4,>=3.0.2 in /mnt/netapp1/Optcesga_FT2_RHEL7/2020/gentoo/22072020/usr/lib64/python3.7/site-packages (from requests>=2.19.0->datasets) (3.0.4)\n",
      "Requirement already satisfied: idna<3,>=2.5 in /mnt/netapp1/Optcesga_FT2_RHEL7/2020/gentoo/22072020/usr/lib64/python3.7/site-packages (from requests>=2.19.0->datasets) (2.10)\n",
      "Requirement already satisfied: urllib3!=1.25.0,!=1.25.1,<1.26,>=1.21.1 in /mnt/netapp1/Optcesga_FT2_RHEL7/2020/gentoo/22072020/usr/lib64/python3.7/site-packages (from requests>=2.19.0->datasets) (1.25.9)\n",
      "Requirement already satisfied: certifi>=2017.4.17 in /mnt/netapp1/Optcesga_FT2_RHEL7/2020/gentoo/22072020/usr/lib64/python3.7/site-packages (from requests>=2.19.0->datasets) (9999)\n",
      "Requirement already satisfied: zipp>=0.5 in /mnt/netapp1/Optcesga_FT2_RHEL7/2020/gentoo/22072020/usr/lib64/python3.7/site-packages (from importlib-metadata->datasets) (1.0.0)\n",
      "Requirement already satisfied: more_itertools in /mnt/netapp1/Optcesga_FT2_RHEL7/2020/gentoo/22072020/usr/lib64/python3.7/site-packages (from zipp>=0.5->importlib-metadata->datasets) (5.0.0)\n",
      "Requirement already satisfied: six<2.0.0,>=1.0.0 in /mnt/netapp1/Optcesga_FT2_RHEL7/2020/gentoo/22072020/usr/lib64/python3.7/site-packages (from more_itertools->zipp>=0.5->importlib-metadata->datasets) (1.15.0)\n",
      "Requirement already satisfied: python-dateutil>=2.6.1 in /mnt/netapp1/Optcesga_FT2_RHEL7/2020/gentoo/22072020/usr/lib64/python3.7/site-packages (from pandas->datasets) (2.8.1)\n",
      "Requirement already satisfied: pytz>=2017.2 in /mnt/netapp1/Optcesga_FT2_RHEL7/2020/gentoo/22072020/usr/lib64/python3.7/site-packages (from pandas->datasets) (2020.1)\n"
     ]
    }
   ],
   "source": [
    "! hostnamectl\n",
    "%pip install xformers\n",
    "! nvidia-smi\n",
    "%pip install datasets\n"
   ]
  },
  {
   "cell_type": "markdown",
   "metadata": {},
   "source": [
    "### La librería Transformers\n",
    "\n",
    "La forma más sencilla de experimentar con la librería **Transformers** es a través de la función *pipeline*. Ésta permite ejecutar la tarea de inferencia de un modelo\n"
   ]
  },
  {
   "cell_type": "code",
   "execution_count": 2,
   "metadata": {},
   "outputs": [
    {
     "name": "stderr",
     "output_type": "stream",
     "text": [
      "/mnt/netapp2/Store_uni/home/ulc/es/dac/mytx/lib/python3.7/site-packages/tqdm/auto.py:21: TqdmWarning: IProgress not found. Please update jupyter and ipywidgets. See https://ipywidgets.readthedocs.io/en/stable/user_install.html\n",
      "  from .autonotebook import tqdm as notebook_tqdm\n",
      "No model was supplied, defaulted to distilbert-base-uncased-finetuned-sst-2-english and revision af0f99b (https://huggingface.co/distilbert-base-uncased-finetuned-sst-2-english).\n",
      "Using a pipeline without specifying a model name and revision in production is not recommended.\n",
      "Xformers is not installed correctly. If you want to use memory_efficient_attention to accelerate training use the following command to install Xformers\n",
      "pip install xformers.\n"
     ]
    },
    {
     "data": {
      "text/plain": [
       "[{'label': 'POSITIVE', 'score': 0.9598049521446228}]"
      ]
     },
     "execution_count": 2,
     "metadata": {},
     "output_type": "execute_result"
    }
   ],
   "source": [
    "from transformers import pipeline\n",
    "classifier = pipeline('sentiment-analysis')\n",
    "classifier(\"I've been waiting for a HuggingFace course my whole life.\")"
   ]
  },
  {
   "cell_type": "markdown",
   "metadata": {},
   "source": [
    "También podemos procesar más de una entrada"
   ]
  },
  {
   "cell_type": "code",
   "execution_count": 3,
   "metadata": {},
   "outputs": [
    {
     "name": "stdout",
     "output_type": "stream",
     "text": [
      "label: POSITIVE, with score: 0.9998\n",
      "label: NEGATIVE, with score: 0.5309\n"
     ]
    }
   ],
   "source": [
    "results = classifier([\"We are very happy to show you the 🤗 Transformers library.\", \"We hope you don't hate it.\"])\n",
    "for result in results:\n",
    "    print(f\"label: {result['label']}, with score: {round(result['score'], 4)}\")"
   ]
  },
  {
   "cell_type": "markdown",
   "metadata": {},
   "source": [
    "También podemos procesar un *dataset* completo "
   ]
  },
  {
   "cell_type": "code",
   "execution_count": 2,
   "metadata": {},
   "outputs": [
    {
     "name": "stdout",
     "output_type": "stream",
     "text": [
      "Looking in indexes: https://pypi.org/simple, https://pypi.ngc.nvidia.com\n",
      "Requirement already satisfied: soundfile in /mnt/netapp2/Store_uni/home/ulc/es/dac/mytx/lib/python3.7/site-packages (0.12.1)\n",
      "Collecting librosa\n",
      "  Downloading librosa-0.10.2.post1-py3-none-any.whl.metadata (8.6 kB)\n",
      "Requirement already satisfied: cffi>=1.0 in /mnt/netapp2/Store_uni/home/ulc/es/dac/mytx/lib/python3.7/site-packages (from soundfile) (1.15.1)\n",
      "Collecting audioread>=2.1.9 (from librosa)\n",
      "  Downloading audioread-3.0.1-py3-none-any.whl.metadata (8.4 kB)\n",
      "Requirement already satisfied: numpy!=1.22.0,!=1.22.1,!=1.22.2,>=1.20.3 in /mnt/netapp2/Store_uni/home/ulc/es/dac/mytx/lib/python3.7/site-packages (from librosa) (1.21.6)\n",
      "Collecting scipy>=1.2.0 (from librosa)\n",
      "  Downloading scipy-1.7.3-cp37-cp37m-manylinux_2_12_x86_64.manylinux2010_x86_64.whl.metadata (2.2 kB)\n",
      "Collecting scikit-learn>=0.20.0 (from librosa)\n",
      "  Downloading scikit_learn-1.0.2-cp37-cp37m-manylinux_2_17_x86_64.manylinux2014_x86_64.whl.metadata (10 kB)\n",
      "Collecting joblib>=0.14 (from librosa)\n",
      "  Downloading joblib-1.3.2-py3-none-any.whl.metadata (5.4 kB)\n",
      "Requirement already satisfied: decorator>=4.3.0 in /mnt/netapp2/Store_uni/home/ulc/es/dac/mytx/lib/python3.7/site-packages (from librosa) (5.1.1)\n",
      "Collecting numba>=0.51.0 (from librosa)\n",
      "  Downloading numba-0.56.4-cp37-cp37m-manylinux2014_x86_64.manylinux_2_17_x86_64.whl.metadata (2.8 kB)\n",
      "Collecting pooch>=1.1 (from librosa)\n",
      "  Downloading pooch-1.8.2-py3-none-any.whl.metadata (10 kB)\n",
      "Collecting soxr>=0.3.2 (from librosa)\n",
      "  Downloading soxr-0.3.7-cp37-cp37m-manylinux_2_17_x86_64.manylinux2014_x86_64.whl.metadata (5.5 kB)\n",
      "Requirement already satisfied: typing-extensions>=4.1.1 in /mnt/netapp2/Store_uni/home/ulc/es/dac/mytx/lib/python3.7/site-packages (from librosa) (4.7.1)\n",
      "Collecting lazy-loader>=0.1 (from librosa)\n",
      "  Downloading lazy_loader-0.4-py3-none-any.whl.metadata (7.6 kB)\n",
      "Collecting msgpack>=1.0 (from librosa)\n",
      "  Downloading msgpack-1.0.5-cp37-cp37m-manylinux_2_17_x86_64.manylinux2014_x86_64.whl.metadata (8.8 kB)\n",
      "Requirement already satisfied: pycparser in /mnt/netapp2/Store_uni/home/ulc/es/dac/mytx/lib/python3.7/site-packages (from cffi>=1.0->soundfile) (2.21)\n",
      "Requirement already satisfied: packaging in /mnt/netapp2/Store_uni/home/ulc/es/dac/mytx/lib/python3.7/site-packages (from lazy-loader>=0.1->librosa) (24.0)\n",
      "Requirement already satisfied: importlib-metadata in /mnt/netapp2/Store_uni/home/ulc/es/dac/mytx/lib/python3.7/site-packages (from lazy-loader>=0.1->librosa) (6.7.0)\n",
      "Collecting llvmlite<0.40,>=0.39.0dev0 (from numba>=0.51.0->librosa)\n",
      "  Downloading llvmlite-0.39.1-cp37-cp37m-manylinux_2_17_x86_64.manylinux2014_x86_64.whl.metadata (4.7 kB)\n",
      "Requirement already satisfied: setuptools in /mnt/netapp2/Store_uni/home/ulc/es/dac/mytx/lib/python3.7/site-packages (from numba>=0.51.0->librosa) (47.1.0)\n",
      "Collecting platformdirs>=2.5.0 (from pooch>=1.1->librosa)\n",
      "  Downloading platformdirs-4.0.0-py3-none-any.whl.metadata (11 kB)\n",
      "Requirement already satisfied: requests>=2.19.0 in /mnt/netapp2/Store_uni/home/ulc/es/dac/mytx/lib/python3.7/site-packages (from pooch>=1.1->librosa) (2.31.0)\n",
      "Collecting threadpoolctl>=2.0.0 (from scikit-learn>=0.20.0->librosa)\n",
      "  Downloading threadpoolctl-3.1.0-py3-none-any.whl.metadata (9.2 kB)\n",
      "Requirement already satisfied: charset-normalizer<4,>=2 in /mnt/netapp2/Store_uni/home/ulc/es/dac/mytx/lib/python3.7/site-packages (from requests>=2.19.0->pooch>=1.1->librosa) (3.4.1)\n",
      "Requirement already satisfied: idna<4,>=2.5 in /mnt/netapp2/Store_uni/home/ulc/es/dac/mytx/lib/python3.7/site-packages (from requests>=2.19.0->pooch>=1.1->librosa) (3.10)\n",
      "Requirement already satisfied: urllib3<3,>=1.21.1 in /mnt/netapp2/Store_uni/home/ulc/es/dac/mytx/lib/python3.7/site-packages (from requests>=2.19.0->pooch>=1.1->librosa) (2.0.7)\n",
      "Requirement already satisfied: certifi>=2017.4.17 in /mnt/netapp2/Store_uni/home/ulc/es/dac/mytx/lib/python3.7/site-packages (from requests>=2.19.0->pooch>=1.1->librosa) (2024.12.14)\n",
      "Requirement already satisfied: zipp>=0.5 in /mnt/netapp2/Store_uni/home/ulc/es/dac/mytx/lib/python3.7/site-packages (from importlib-metadata->lazy-loader>=0.1->librosa) (3.15.0)\n",
      "Downloading librosa-0.10.2.post1-py3-none-any.whl (260 kB)\n",
      "\u001b[2K   \u001b[90m━━━━━━━━━━━━━━━━━━━━━━━━━━━━━━━━━━━━━━━━\u001b[0m \u001b[32m260.1/260.1 kB\u001b[0m \u001b[31m10.0 MB/s\u001b[0m eta \u001b[36m0:00:00\u001b[0m\n",
      "\u001b[?25hDownloading audioread-3.0.1-py3-none-any.whl (23 kB)\n",
      "Downloading joblib-1.3.2-py3-none-any.whl (302 kB)\n",
      "\u001b[2K   \u001b[90m━━━━━━━━━━━━━━━━━━━━━━━━━━━━━━━━━━━━━━━━\u001b[0m \u001b[32m302.2/302.2 kB\u001b[0m \u001b[31m33.2 MB/s\u001b[0m eta \u001b[36m0:00:00\u001b[0m\n",
      "\u001b[?25hDownloading lazy_loader-0.4-py3-none-any.whl (12 kB)\n",
      "Downloading msgpack-1.0.5-cp37-cp37m-manylinux_2_17_x86_64.manylinux2014_x86_64.whl (299 kB)\n",
      "\u001b[2K   \u001b[90m━━━━━━━━━━━━━━━━━━━━━━━━━━━━━━━━━━━━━━━\u001b[0m \u001b[32m299.7/299.7 kB\u001b[0m \u001b[31m240.4 MB/s\u001b[0m eta \u001b[36m0:00:00\u001b[0m\n",
      "\u001b[?25hDownloading numba-0.56.4-cp37-cp37m-manylinux2014_x86_64.manylinux_2_17_x86_64.whl (3.5 MB)\n",
      "\u001b[2K   \u001b[90m━━━━━━━━━━━━━━━━━━━━━━━━━━━━━━━━━━━━━━━━\u001b[0m \u001b[32m3.5/3.5 MB\u001b[0m \u001b[31m5.6 MB/s\u001b[0m eta \u001b[36m0:00:00\u001b[0ma \u001b[36m0:00:01\u001b[0mm\n",
      "\u001b[?25hDownloading pooch-1.8.2-py3-none-any.whl (64 kB)\n",
      "\u001b[2K   \u001b[90m━━━━━━━━━━━━━━━━━━━━━━━━━━━━━━━━━━━━━━━━\u001b[0m \u001b[32m64.6/64.6 kB\u001b[0m \u001b[31m208.1 MB/s\u001b[0m eta \u001b[36m0:00:00\u001b[0m\n",
      "\u001b[?25hDownloading scikit_learn-1.0.2-cp37-cp37m-manylinux_2_17_x86_64.manylinux2014_x86_64.whl (24.8 MB)\n",
      "\u001b[2K   \u001b[90m━━━━━━━━━━━━━━━━━━━━━━━━━━━━━━━━━━━━━━━━\u001b[0m \u001b[32m24.8/24.8 MB\u001b[0m \u001b[31m235.8 MB/s\u001b[0m eta \u001b[36m0:00:00\u001b[0ma \u001b[36m0:00:01\u001b[0m\n",
      "\u001b[?25hDownloading scipy-1.7.3-cp37-cp37m-manylinux_2_12_x86_64.manylinux2010_x86_64.whl (38.1 MB)\n",
      "\u001b[2K   \u001b[90m━━━━━━━━━━━━━━━━━━━━━━━━━━━━━━━━━━━━━━━━\u001b[0m \u001b[32m38.1/38.1 MB\u001b[0m \u001b[31m215.3 MB/s\u001b[0m eta \u001b[36m0:00:00\u001b[0ma \u001b[36m0:00:01\u001b[0m\n",
      "\u001b[?25hDownloading soxr-0.3.7-cp37-cp37m-manylinux_2_17_x86_64.manylinux2014_x86_64.whl (1.2 MB)\n",
      "\u001b[2K   \u001b[90m━━━━━━━━━━━━━━━━━━━━━━━━━━━━━━━━━━━━━━━━\u001b[0m \u001b[32m1.2/1.2 MB\u001b[0m \u001b[31m13.0 MB/s\u001b[0m eta \u001b[36m0:00:00\u001b[0mta \u001b[36m0:00:01\u001b[0m\n",
      "\u001b[?25hDownloading llvmlite-0.39.1-cp37-cp37m-manylinux_2_17_x86_64.manylinux2014_x86_64.whl (34.6 MB)\n",
      "\u001b[2K   \u001b[90m━━━━━━━━━━━━━━━━━━━━━━━━━━━━━━━━━━━━━━━━\u001b[0m \u001b[32m34.6/34.6 MB\u001b[0m \u001b[31m21.9 MB/s\u001b[0m eta \u001b[36m0:00:00\u001b[0ma \u001b[36m0:00:01\u001b[0m\n",
      "\u001b[?25hDownloading platformdirs-4.0.0-py3-none-any.whl (17 kB)\n",
      "Downloading threadpoolctl-3.1.0-py3-none-any.whl (14 kB)\n",
      "Installing collected packages: msgpack, threadpoolctl, soxr, scipy, platformdirs, llvmlite, joblib, audioread, scikit-learn, pooch, numba, lazy-loader, librosa\n",
      "Successfully installed audioread-3.0.1 joblib-1.3.2 lazy-loader-0.4 librosa-0.10.2.post1 llvmlite-0.39.1 msgpack-1.0.5 numba-0.56.4 platformdirs-4.0.0 pooch-1.8.2 scikit-learn-1.0.2 scipy-1.7.3 soxr-0.3.7 threadpoolctl-3.1.0\n",
      "Note: you may need to restart the kernel to use updated packages.\n"
     ]
    },
    {
     "name": "stderr",
     "output_type": "stream",
     "text": [
      "Some weights of Wav2Vec2ForCTC were not initialized from the model checkpoint at facebook/wav2vec2-base-960h and are newly initialized: ['wav2vec2.masked_spec_embed']\n",
      "You should probably TRAIN this model on a down-stream task to be able to use it for predictions and inference.\n",
      "Found cached dataset minds14 (/home/ulc/es/dac/.cache/huggingface/datasets/PolyAI___minds14/en-US/1.0.0/7bdf27fccad4efc6da7c00f739d96bfa0d25a7a85f2244755a73c865f70182bc)\n"
     ]
    },
    {
     "name": "stdout",
     "output_type": "stream",
     "text": [
      "['I WOULD LIKE TO SET UP A JOINT ACCOUNT WITH MY PARTNER HOW DO I PROCEED WITH DOING THAT', \"FONDERING HOW I'D SET UP A JOIN TO HELL T WITH MY WIFE AND WHERE THE AP MIGHT BE\", \"I I'D LIKE TOY SET UP A JOINT ACCOUNT WITH MY PARTNER I'M NOT SEEING THE OPTION TO DO IT ON THE APSO I CALLED IN TO GET SOME HELP CAN I JUST DO IT OVER THE PHONE WITH YOU AND GIVE YOU THE INFORMATION OR SHOULD I DO IT IN THE AP AN I'M MISSING SOMETHING UQUETTE HAD PREFERRED TO JUST DO IT OVER THE PHONE OF POSSIBLE THINGS\", 'HOW DO I FURN A JOINA COUT']\n"
     ]
    }
   ],
   "source": [
    "%pip install soundfile librosa\n",
    "import torch\n",
    "from transformers import pipeline\n",
    "speech_recognizer = pipeline(\"automatic-speech-recognition\", model=\"facebook/wav2vec2-base-960h\")\n",
    "from datasets import load_dataset, Audio\n",
    "dataset = load_dataset(\"PolyAI/minds14\", name=\"en-US\", split=\"train\")\n",
    "dataset = dataset.cast_column(\"audio\", Audio(sampling_rate=speech_recognizer.feature_extractor.sampling_rate))\n",
    "result = speech_recognizer(dataset[:4][\"audio\"])\n",
    "print([d[\"text\"] for d in result])"
   ]
  },
  {
   "cell_type": "code",
   "execution_count": null,
   "metadata": {},
   "outputs": [],
   "source": []
  }
 ],
 "metadata": {
  "kernelspec": {
   "display_name": "mytx",
   "language": "python",
   "name": "mytx"
  },
  "language_info": {
   "codemirror_mode": {
    "name": "ipython",
    "version": 3
   },
   "file_extension": ".py",
   "mimetype": "text/x-python",
   "name": "python",
   "nbconvert_exporter": "python",
   "pygments_lexer": "ipython3",
   "version": "3.7.8"
  }
 },
 "nbformat": 4,
 "nbformat_minor": 2
}
